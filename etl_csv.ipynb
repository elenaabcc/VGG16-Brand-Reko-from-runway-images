{
 "cells": [
  {
   "cell_type": "code",
   "execution_count": 1,
   "metadata": {
    "ExecuteTime": {
     "end_time": "2023-07-14T15:09:01.502959Z",
     "start_time": "2023-07-14T15:08:55.780691Z"
    },
    "collapsed": true
   },
   "outputs": [],
   "source": [
    "import pandas as pd\n",
    "rway_img_df_ok = pd.read_csv(\"collection_images_download.csv\")"
   ]
  },
  {
   "cell_type": "code",
   "execution_count": 2,
   "metadata": {
    "ExecuteTime": {
     "end_time": "2023-07-14T15:09:03.283717Z",
     "start_time": "2023-07-14T15:09:01.510590Z"
    },
    "collapsed": false
   },
   "outputs": [],
   "source": [
    "rway_img_df = rway_img_df_ok.copy()\n",
    "\n",
    "# EXTRACT BRAND FROM IMAGE NAME\n",
    "# Creazione delle nuove colonne\n",
    "rway_img_df['brand'] = rway_img_df['image_name'].str.lower()\n",
    "rway_img_df['brand'] = rway_img_df['brand'].str.split('couture').str[0]\n",
    "rway_img_df['brand'] = rway_img_df['brand'].str.split('ready-to-wear').str[0]\n",
    "rway_img_df['brand'] = rway_img_df['brand'].str.split('menswear').str[0]\n",
    "rway_img_df['brand'] = rway_img_df['brand'].str.replace(\"-\", \" \")\n",
    "rway_img_df['brand'] = rway_img_df['brand'].str.strip()"
   ]
  },
  {
   "cell_type": "code",
   "execution_count": 20,
   "metadata": {},
   "outputs": [],
   "source": [
    "# create a small dataframe with the brand in scope\n",
    "brand_in_scope = ['versace', 'hermes']\n",
    "rway_img_df_small = pd.DataFrame()\n",
    "\n",
    "for i,row in enumerate(rway_img_df['brand']):\n",
    "    if row in brand_in_scope:\n",
    "        rway_img_df_small = rway_img_df_small.append(rway_img_df.iloc[i])\n",
    "        \n",
    "rway_img_df_small['image_path_no_bkgnd'] = rway_img_df_small['image_path'].astype(str)\n",
    "\n",
    "# Execute \n",
    "# for each row in rway_img_df_small['image_path_no_bkgnd'] change the output path\n",
    "for index, row in rway_img_df_small.iterrows():\n",
    "    # Split the image path into base name and extension\n",
    "    base_name, extension = row['image_path_no_bkgnd'].split('.')\n",
    "\n",
    "    # Add \"-no-bkgnd\" to the base name\n",
    "    new_base_name = f\"{base_name}-no-bkgnd\"\n",
    "\n",
    "    # Concatenate the new base name with the extension\n",
    "    new_image_path = f\"{new_base_name}.{extension}\"\n",
    "\n",
    "    # Replace the original image path with the new image path\n",
    "    rway_img_df_small.at[index, 'image_path_no_bkgnd'] = new_image_path\n"
   ]
  },
  {
   "cell_type": "code",
   "execution_count": 22,
   "metadata": {},
   "outputs": [],
   "source": [
    "\n",
    "#! it's takes 1h for 1694 imgs (% of full sample size)\n",
    "#! Time estimate per img 2secs\n",
    "\n",
    "from rembg import remove\n",
    "import os\n",
    "\n",
    "path_prefix = \"./imgs/images/images/\"\n",
    "\n",
    "# Assuming rway_img_df_small is a pandas DataFrame containing the image paths\n",
    "# with a column named 'image_path_no_bkgnd'\n",
    "\n",
    "for index, row in rway_img_df_small.iterrows():\n",
    "    input_path = f\"{path_prefix}{row['image_path']}\"\n",
    "    output_path = f\"{path_prefix}{row['image_path_no_bkgnd']}\"\n",
    "\n",
    "    with open(input_path, 'rb') as i:\n",
    "        with open(output_path, 'wb') as o:\n",
    "            input_data = i.read()\n",
    "            output_data = remove(input_data)\n",
    "            o.write(output_data)\n"
   ]
  },
  {
   "cell_type": "code",
   "execution_count": null,
   "metadata": {},
   "outputs": [],
   "source": [
    "(1694/132153)*100"
   ]
  },
  {
   "cell_type": "code",
   "execution_count": null,
   "metadata": {},
   "outputs": [],
   "source": [
    "# Display the updated DataFrame\n",
    "print(way_img_df_small)"
   ]
  },
  {
   "cell_type": "code",
   "execution_count": 5,
   "metadata": {},
   "outputs": [],
   "source": [
    "# from small dataframe create train (90%) and test (10%) set\n",
    "from sklearn.model_selection import train_test_split\n",
    "train, test = train_test_split(rway_img_df_small, test_size=0.1, random_state=42)\n"
   ]
  }
 ],
 "metadata": {
  "kernelspec": {
   "display_name": "Python 3",
   "language": "python",
   "name": "python3"
  },
  "language_info": {
   "codemirror_mode": {
    "name": "ipython",
    "version": 3
   },
   "file_extension": ".py",
   "mimetype": "text/x-python",
   "name": "python",
   "nbconvert_exporter": "python",
   "pygments_lexer": "ipython3",
   "version": "3.9.7"
  }
 },
 "nbformat": 4,
 "nbformat_minor": 0
}
