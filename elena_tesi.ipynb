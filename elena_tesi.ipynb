{
 "cells": [
  {
   "cell_type": "code",
   "execution_count": null,
   "metadata": {
    "ExecuteTime": {
     "end_time": "2023-07-14T15:09:01.502959Z",
     "start_time": "2023-07-14T15:08:55.780691Z"
    },
    "collapsed": true
   },
   "outputs": [],
   "source": [
    "import pandas as pd\n",
    "rway_img_df_ok = pd.read_csv(\"collection_images_download.csv\")"
   ]
  },
  {
   "cell_type": "code",
   "execution_count": null,
   "metadata": {
    "ExecuteTime": {
     "end_time": "2023-07-14T15:09:03.283717Z",
     "start_time": "2023-07-14T15:09:01.510590Z"
    },
    "collapsed": false
   },
   "outputs": [],
   "source": [
    "rway_img_df = rway_img_df_ok.copy()\n",
    "\n",
    "# EXTRACT BRAND FROM IMAGE NAME\n",
    "# Creazione delle nuove colonne\n",
    "rway_img_df['brand'] = rway_img_df['image_name'].str.lower()\n",
    "rway_img_df['brand'] = rway_img_df['brand'].str.split('couture').str[0]\n",
    "rway_img_df['brand'] = rway_img_df['brand'].str.split('ready-to-wear').str[0]\n",
    "rway_img_df['brand'] = rway_img_df['brand'].str.split('menswear').str[0]\n",
    "rway_img_df['brand'] = rway_img_df['brand'].str.replace(\"-\", \" \")\n",
    "rway_img_df['brand'] = rway_img_df['brand'].str.strip()"
   ]
  },
  {
   "cell_type": "code",
   "execution_count": null,
   "metadata": {
    "ExecuteTime": {
     "start_time": "2023-07-14T15:02:33.279686Z"
    },
    "collapsed": false,
    "is_executing": true
   },
   "outputs": [],
   "source": [
    "# import required libraries\n",
    "import cv2\n",
    "\n",
    "# read the input image\n",
    "img = cv2.imread('imgs/images/images/dsquared2-ready-to-wear-fall-winter-2022/DSquared2-Ready-To-Wear-Fall-Winter-2022-Milan-Fashion-Week-Runway-001_.jpg')\n",
    "\n",
    "# convert to grayscale of each frames\n",
    "gray = cv2.cvtColor(img, cv2.COLOR_BGR2GRAY)\n",
    "\n",
    "# read the haarcascade to detect the faces in an image\n",
    "face_cascade = cv2.CascadeClassifier('haarcascade_frontalface_alt.xml')\n",
    "\n",
    "# detects faces in the input image\n",
    "faces = face_cascade.detectMultiScale(gray, 1.3, 4)\n",
    "print('Number of detected faces:', len(faces))\n",
    "\n",
    "# loop over all detected faces\n",
    "if len(faces) > 0:\n",
    "   for i, (x, y, w, h) in enumerate(faces):\n",
    "\n",
    "      # To draw a rectangle in a face\n",
    "      cv2.rectangle(img, (x, y), (x + w, y + h), (0, 255, 255), 2)\n",
    "      face = img[y:y + h, x:x + w]\n",
    "      cv2.imshow(\"Cropped Face\", face)\n",
    "      cv2.imwrite(f'face{i}.jpg', face)\n",
    "      print(f\"face{i}.jpg is saved\")\n",
    "\n",
    "\n",
    "      # display the image with detected faces\n",
    "      cv2.imshow(\"image\", img)\n",
    "      cv2.waitKey(0)\n",
    "      cv2.destroyAllWindows()"
   ]
  },
  {
   "cell_type": "code",
   "execution_count": null,
   "metadata": {},
   "outputs": [],
   "source": [
    "import cv2\n",
    "\n",
    "# Carica il classificatore per il rilevamento del corpo\n",
    "body_classifier = cv2.CascadeClassifier('haarcascade_fullbody.xml')\n",
    "\n",
    "# Leggi l'immagine di input\n",
    "image = cv2.imread('/Users/elenaabcc/Desktop/workspace/python/tesi_872265/imgs/images/images/alberta-ferretti-ready-to-wear-spring-summer-2017-milan-2/Alberta-Ferretti-Ready-To-Wear-Spring-Summer-2017-Milan-Fashion-Week-Runway-001.jpg')\n",
    "\n",
    "# Converti l'immagine in scala di grigi\n",
    "gray = cv2.cvtColor(image, cv2.COLOR_BGR2GRAY)\n",
    "\n",
    "# Rileva i corpi nell'immagine di input\n",
    "bodies = body_classifier.detectMultiScale(gray, 2, 3)\n",
    "print('Number of detected bodies:', len(bodies))\n",
    "\n",
    "# Estrai i rettangoli delimitanti per i corpi identificati\n",
    "for (x, y, w, h) in bodies:\n",
    "    cv2.rectangle(image, (x, y), (x + w, y + h), (0, 255, 255), 2)\n",
    "\n",
    "# Mostra l'immagine con i corpi rilevati\n",
    "cv2.imshow('Pedestrians', image)\n",
    "cv2.waitKey(0)\n",
    "cv2.destroyAllWindows()\n"
   ]
  },
  {
   "cell_type": "code",
   "execution_count": null,
   "metadata": {},
   "outputs": [],
   "source": [
    "import numpy as np\n",
    "import cv2\n",
    "\n",
    "# initialize the HOG descriptor/person detector\n",
    "hog = cv2.HOGDescriptor()\n",
    "hog.setSVMDetector(cv2.HOGDescriptor_getDefaultPeopleDetector())\n",
    "\n",
    "# load the input image\n",
    "image = cv2.imread('/Users/elenaabcc/Desktop/workspace/python/tesi_872265/imgs/images/images/alberta-ferretti-ready-to-wear-spring-summer-2017-milan-2/Alberta-Ferretti-Ready-To-Wear-Spring-Summer-2017-Milan-Fashion-Week-Runway-001.jpg')\n",
    "\n",
    "# resizing for faster detection\n",
    "frame = cv2.resize(image, (640, 480))\n",
    "# using a greyscale picture, also for faster detection\n",
    "gray = cv2.cvtColor(frame, cv2.COLOR_RGB2GRAY)\n",
    "\n",
    "# detect people in the image\n",
    "# returns the bounding boxes for the detected objects\n",
    "boxes, weights = hog.detectMultiScale(frame, winStride=(8, 8))\n",
    "\n",
    "boxes = np.array([[x, y, x + w, y + h] for (x, y, w, h) in boxes])\n",
    "\n",
    "for (xA, yA, xB, yB) in boxes:\n",
    "    # display the detected boxes in the colour picture\n",
    "    cv2.rectangle(frame, (xA, yA), (xB, yB), (0, 255, 0), 2)\n",
    "\n",
    "# display the resulting image\n",
    "cv2.imshow('image', frame)\n",
    "cv2.waitKey(0)\n",
    "cv2.destroyAllWindows()\n"
   ]
  },
  {
   "cell_type": "code",
   "execution_count": null,
   "metadata": {},
   "outputs": [],
   "source": [
    "import numpy as np\n",
    "import cv2\n",
    "import matplotlib.pyplot as plt\n",
    "\n",
    "import torch\n",
    "from torchvision.models.segmentation import deeplabv3_resnet101\n",
    "from torchvision import transforms\n",
    "\n",
    "def make_deeplab(device):\n",
    "    deeplab = deeplabv3_resnet101(pretrained=True).to(device)\n",
    "    deeplab.eval()\n",
    "    return deeplab\n",
    "\n",
    "device = torch.device(\"cpu\")\n",
    "deeplab = make_deeplab(device)"
   ]
  },
  {
   "cell_type": "code",
   "execution_count": 1,
   "metadata": {},
   "outputs": [
    {
     "name": "stdout",
     "output_type": "stream",
     "text": [
      "Collecting package metadata (current_repodata.json): done\n",
      "Solving environment: failed with initial frozen solve. Retrying with flexible solve.\n",
      "Collecting package metadata (repodata.json): done\n",
      "Solving environment: failed with initial frozen solve. Retrying with flexible solve.\n",
      "\n",
      "PackagesNotFoundError: The following packages are not available from current channels:\n",
      "\n",
      "  - rembg\n",
      "\n",
      "Current channels:\n",
      "\n",
      "  - https://repo.anaconda.com/pkgs/main/osx-64\n",
      "  - https://repo.anaconda.com/pkgs/main/noarch\n",
      "  - https://repo.anaconda.com/pkgs/r/osx-64\n",
      "  - https://repo.anaconda.com/pkgs/r/noarch\n",
      "\n",
      "To search for alternate channels that may provide the conda package you're\n",
      "looking for, navigate to\n",
      "\n",
      "    https://anaconda.org\n",
      "\n",
      "and use the search bar at the top of the page.\n",
      "\n",
      "\n",
      "\n",
      "Note: you may need to restart the kernel to use updated packages.\n"
     ]
    }
   ],
   "source": [
    "conda install rembg"
   ]
  },
  {
   "cell_type": "code",
   "execution_count": 1,
   "metadata": {},
   "outputs": [
    {
     "ename": "",
     "evalue": "",
     "output_type": "error",
     "traceback": [
      "\u001b[1;31mCannot execute code, session has been disposed. Please try restarting the Kernel."
     ]
    },
    {
     "ename": "",
     "evalue": "",
     "output_type": "error",
     "traceback": [
      "\u001b[1;31mThe Kernel crashed while executing code in the the current cell or a previous cell. Please review the code in the cell(s) to identify a possible cause of the failure. Click <a href='https://aka.ms/vscodeJupyterKernelCrash'>here</a> for more info. View Jupyter <a href='command:jupyter.viewOutput'>log</a> for further details."
     ]
    }
   ],
   "source": [
    "from rembg import remove\n",
    "\n",
    "input_path = './imgs/images/images/alberta-ferretti-ready-to-wear-spring-summer-2017-milan-2/Alberta-Ferretti-Ready-To-Wear-Spring-Summer-2017-Milan-Fashion-Week-Runway-001.jpg'\n",
    "output_path = './output.jpg'\n",
    "\n",
    "with open(input_path, 'rb') as i:\n",
    "    with open(output_path, 'wb') as o:\n",
    "        input = i.read()\n",
    "        output = remove(input)\n",
    "        o.write(output)"
   ]
  }
 ],
 "metadata": {
  "kernelspec": {
   "display_name": "Python 3",
   "language": "python",
   "name": "python3"
  },
  "language_info": {
   "codemirror_mode": {
    "name": "ipython",
    "version": 3
   },
   "file_extension": ".py",
   "mimetype": "text/x-python",
   "name": "python",
   "nbconvert_exporter": "python",
   "pygments_lexer": "ipython3",
   "version": "3.10.8"
  }
 },
 "nbformat": 4,
 "nbformat_minor": 0
}
